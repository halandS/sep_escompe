{
 "cells": [
  {
   "cell_type": "markdown",
   "metadata": {},
   "source": [
    "続きからやること\n",
    "1. tradepriceをpipe形式に変更\n",
    "2. 次々の特徴量をpipeで書いていく"
   ]
  },
  {
   "cell_type": "markdown",
   "metadata": {},
   "source": [
    "### コンペ概要\n",
    "\n",
    "* 目的：関東地方のさまざまな不動産情報をもとに、各不動産の最終価格を予想するコンペです。\n",
    "  * 実際に取引された価格のニュアンスでいいはず\n",
    "* 評価関数：RMSLE(二乗平均平方根対数誤差)\n",
    "* 提出物\n",
    "  1. コンペとしての結果（普通にやればいい）\n",
    "  2. それに使ったノートブックファイル\n",
    "     1. EDA（探索的分析）の結果としてグラフを1つ以上出力すること。\n",
    "     2. データの分割方法について記述すること。\n",
    "     3. 出力結果を残した状態で提出すること。 \n",
    "\n",
    "なので、ファイルを横展開するのは現実的ではない（その後にまとめる必要があるので）\n",
    "\n",
    "* 提出上限　1日3件"
   ]
  },
  {
   "cell_type": "markdown",
   "metadata": {},
   "source": [
    "### 方針\n",
    "\n",
    "* EDAをする\n",
    "* 使えるデータだけで一旦爆速提出\n"
   ]
  },
  {
   "cell_type": "markdown",
   "metadata": {},
   "source": [
    "### 目標（後で消す）\n",
    "\n",
    "* 一位をとる　業務に支障が出ない範囲で\n",
    "* pipeを使う\n",
    "  * EDAに対してはあまり有効ではないのでは？（すぐに結果を見たいので）\n",
    "  * どの列に対しても、似通った操作をしたいことはあるし、関数を１箇所にしておけば可読性が上がるからpipeの意味はありそう"
   ]
  },
  {
   "cell_type": "markdown",
   "metadata": {},
   "source": [
    "### EDA\n",
    "\n",
    "trainデータの特徴\n",
    "* 646308行*35列のデータ(かなり学習しがいがありそう)\n",
    "* 目的変数はtradeprice\n",
    "\n",
    "各列の特徴,どのように処理するか\n",
    "1. id:識別番号 \n",
    "  * 無視（というか削除）でいい\n",
    "2. Type:不動産の種類\n",
    "3. Region:周辺地域の特徴\n",
    "4. MunicipalityCode:市外局番\n",
    "5. Prefecture:都道府県名\n",
    "6. Municipality:市の名前\n",
    "7. District:地区名\n",
    "8. NearestStation:最寄りの駅名\n",
    "9. TimeToNearestStation:最寄りの駅までの時間（文字値を含む）\n",
    "10. MinTimeToNearestStation:TimeToNearestStation から生成される最寄りの駅までの最小時間 (分)\n",
    "11. MaxTimeToNearestStation:TimeToNearestStation から生成される最寄りの駅までの最大時間 (分)\n",
    "12. TradePrice： 取引価格（円）目標\n",
    "    1.  目的変数\n",
    "13. FloorPlan：フロアプラン\n",
    "14. Area：調査面積 (m^2)\n",
    "15. AreaIsGreaterFlag：2000 m^2 以上のエリア、エリア データは 2000 で表示され、このフラグは true\n",
    "16. LandShape：土地の形状\n",
    "17. Frontage： 間口(m)\n",
    "18. FrontageIsGreaterFlag：一部の元の間口データには「50.0m 以上」と記録されているため、間口を数値に変換してこのフラグを追加しました\n",
    "19. TotalFloorArea：延床面積 (m^2)\n",
    "20. TotalFloorAreaIsGreaterFlag： 一部のデータは「2,000 m^2 以上」と表示されるため、TotalFloorArea を数値に変換してこのフラグを追加しました\n",
    "21. BuildingYear：建物の建設年\n",
    "22. PrewarBuilding：1945年以前に建てられた建物については、建築年データを「戦前」と表示しています。そこで、Build Year を 1945 に変換し、このフラグを追加しました\n",
    "23. Structure：建物の構造。SRC=鉄骨鉄筋コンクリート造、RC=鉄筋コンクリート造、S=鉄骨造、LS=軽量鉄骨造、B=コンクリートブロック造、W=木造\n",
    "24. Use：現在の使用状況。例：住宅、オフィス、店舗、工場、倉庫、作業場、駐車場など\n",
    "25. Purpose：将来の使用目的。たとえば、住宅、店舗、オフィス、工場、倉庫などです。\n",
    "26. Direction： 側道方向\n",
    "27. Classification：側道区分\n",
    "28. Breadth：間口道路幅員（m）\n",
    "29. CityPlanning：都市計画法に基づく用途地\n",
    "30. CoverageRatio：最大建蔽率(%)\n",
    "31. FloorAreaRatio：最大容積率(%)\n",
    "32. Year：期間から生成されたトランザクション年の時\n",
    "33. Quarter：期間から生成されたトランザクションの年-四半期の時刻\n",
    "34. Renovation：リノベーション？\n",
    "35. Remarks：注記"
   ]
  },
  {
   "cell_type": "markdown",
   "metadata": {},
   "source": [
    "数値として適応されているデータと、その数値が一定を超えた時にフラグが発生しているイメージ"
   ]
  },
  {
   "cell_type": "markdown",
   "metadata": {},
   "source": [
    "## 関数セル"
   ]
  },
  {
   "cell_type": "code",
   "execution_count": 41,
   "metadata": {},
   "outputs": [],
   "source": [
    "# モジュール読み込みセル\n",
    "import pandas as pd\n",
    "import matplotlib as mpl\n",
    "import matplotlib.pyplot as plt\n",
    "import seaborn as sns\n",
    "import numpy as np\n"
   ]
  },
  {
   "cell_type": "code",
   "execution_count": 81,
   "metadata": {},
   "outputs": [],
   "source": [
    "# pipe用関数セル\n",
    "\n",
    "#　0.データの読み込み\n",
    "def load_data(path):\n",
    "    return pd.read_csv(path)\n",
    "\n",
    "# 0-1.データフレームの表示\n",
    "def head_data(df):\n",
    "    display(df.head())\n",
    "    return df\n",
    "# 0-2.欠損値情報について\n",
    "def get_info(df):\n",
    "    display(df.info())\n",
    "    return df\n",
    "# 1.統計量の表示\n",
    "def get_describe(df,name='TradePrice'):\n",
    "    pd.set_option('display.float_format', '{:.2f}'.format)\n",
    "    print(df[name].describe())\n",
    "    return df\n",
    "# 2.箱ひげ図\n",
    "def make_barplot(df,name='TradePrice'):\n",
    "    sns.boxplot(data=df[f\"{name}\"])\n",
    "    plt.show()\n",
    "    return df\n",
    "\n",
    "# 3.tradepriceを昇順（降順）に表示\n",
    "def sort_tradeprice(df,ascending_=False, gg=20):\n",
    "    display(df['TradePrice'].sort_values(ascending=ascending_).head(gg))\n",
    "    return df"
   ]
  },
  {
   "cell_type": "code",
   "execution_count": 67,
   "metadata": {},
   "outputs": [],
   "source": [
    "# trainデータ読み込み\n",
    "train =(\n",
    "    load_data('/Users/estyle-119/Documents/ESTYLE U/9月/estyle-2023/train.csv')\n",
    ")"
   ]
  },
  {
   "cell_type": "markdown",
   "metadata": {},
   "source": [
    "データ全体の情報を確認"
   ]
  },
  {
   "cell_type": "code",
   "execution_count": 73,
   "metadata": {},
   "outputs": [
    {
     "data": {
      "text/html": [
       "<div>\n",
       "<style scoped>\n",
       "    .dataframe tbody tr th:only-of-type {\n",
       "        vertical-align: middle;\n",
       "    }\n",
       "\n",
       "    .dataframe tbody tr th {\n",
       "        vertical-align: top;\n",
       "    }\n",
       "\n",
       "    .dataframe thead th {\n",
       "        text-align: right;\n",
       "    }\n",
       "</style>\n",
       "<table border=\"1\" class=\"dataframe\">\n",
       "  <thead>\n",
       "    <tr style=\"text-align: right;\">\n",
       "      <th></th>\n",
       "      <th>Id</th>\n",
       "      <th>Type</th>\n",
       "      <th>Region</th>\n",
       "      <th>MunicipalityCode</th>\n",
       "      <th>Prefecture</th>\n",
       "      <th>Municipality</th>\n",
       "      <th>DistrictName</th>\n",
       "      <th>NearestStation</th>\n",
       "      <th>TimeToNearestStation</th>\n",
       "      <th>MinTimeToNearestStation</th>\n",
       "      <th>...</th>\n",
       "      <th>Direction</th>\n",
       "      <th>Classification</th>\n",
       "      <th>Breadth</th>\n",
       "      <th>CityPlanning</th>\n",
       "      <th>CoverageRatio</th>\n",
       "      <th>FloorAreaRatio</th>\n",
       "      <th>Year</th>\n",
       "      <th>Quarter</th>\n",
       "      <th>Renovation</th>\n",
       "      <th>Remarks</th>\n",
       "    </tr>\n",
       "  </thead>\n",
       "  <tbody>\n",
       "    <tr>\n",
       "      <th>0</th>\n",
       "      <td>1</td>\n",
       "      <td>Agricultural Land</td>\n",
       "      <td>NaN</td>\n",
       "      <td>12212</td>\n",
       "      <td>Chiba Prefecture</td>\n",
       "      <td>Sakura City</td>\n",
       "      <td>Iwatomi</td>\n",
       "      <td>NaN</td>\n",
       "      <td>NaN</td>\n",
       "      <td>NaN</td>\n",
       "      <td>...</td>\n",
       "      <td>NaN</td>\n",
       "      <td>NaN</td>\n",
       "      <td>NaN</td>\n",
       "      <td>NaN</td>\n",
       "      <td>NaN</td>\n",
       "      <td>NaN</td>\n",
       "      <td>2016</td>\n",
       "      <td>4</td>\n",
       "      <td>NaN</td>\n",
       "      <td>Dealings in which auction or arbiter participates</td>\n",
       "    </tr>\n",
       "    <tr>\n",
       "      <th>1</th>\n",
       "      <td>2</td>\n",
       "      <td>Residential Land(Land and Building)</td>\n",
       "      <td>Residential Area</td>\n",
       "      <td>11105</td>\n",
       "      <td>Saitama Prefecture</td>\n",
       "      <td>Chuo Ward,Saitama City</td>\n",
       "      <td>Shimoochiai</td>\n",
       "      <td>Yonohonmachi</td>\n",
       "      <td>4</td>\n",
       "      <td>4.00</td>\n",
       "      <td>...</td>\n",
       "      <td>North</td>\n",
       "      <td>City Road</td>\n",
       "      <td>4.00</td>\n",
       "      <td>Category II Exclusively Medium-high Residentia...</td>\n",
       "      <td>60.00</td>\n",
       "      <td>200.00</td>\n",
       "      <td>2015</td>\n",
       "      <td>1</td>\n",
       "      <td>NaN</td>\n",
       "      <td>NaN</td>\n",
       "    </tr>\n",
       "    <tr>\n",
       "      <th>2</th>\n",
       "      <td>3</td>\n",
       "      <td>Residential Land(Land Only)</td>\n",
       "      <td>Residential Area</td>\n",
       "      <td>13114</td>\n",
       "      <td>Tokyo</td>\n",
       "      <td>Nakano Ward</td>\n",
       "      <td>Minamidai</td>\n",
       "      <td>Nakanofujimicho</td>\n",
       "      <td>19</td>\n",
       "      <td>19.00</td>\n",
       "      <td>...</td>\n",
       "      <td>Southwest</td>\n",
       "      <td>Private Road</td>\n",
       "      <td>4.00</td>\n",
       "      <td>Category I Exclusively Medium-high Residential...</td>\n",
       "      <td>60.00</td>\n",
       "      <td>200.00</td>\n",
       "      <td>2012</td>\n",
       "      <td>4</td>\n",
       "      <td>NaN</td>\n",
       "      <td>Dealings including private road</td>\n",
       "    </tr>\n",
       "    <tr>\n",
       "      <th>3</th>\n",
       "      <td>4</td>\n",
       "      <td>Residential Land(Land Only)</td>\n",
       "      <td>Residential Area</td>\n",
       "      <td>14152</td>\n",
       "      <td>Kanagawa Prefecture</td>\n",
       "      <td>Chuo Ward,Sagamihara City</td>\n",
       "      <td>Fuchinobehoncho</td>\n",
       "      <td>Fuchinobe</td>\n",
       "      <td>16</td>\n",
       "      <td>16.00</td>\n",
       "      <td>...</td>\n",
       "      <td>Southwest</td>\n",
       "      <td>Private Road</td>\n",
       "      <td>5.00</td>\n",
       "      <td>Category I Exclusively Low-story Residential Zone</td>\n",
       "      <td>50.00</td>\n",
       "      <td>80.00</td>\n",
       "      <td>2013</td>\n",
       "      <td>2</td>\n",
       "      <td>NaN</td>\n",
       "      <td>NaN</td>\n",
       "    </tr>\n",
       "    <tr>\n",
       "      <th>4</th>\n",
       "      <td>5</td>\n",
       "      <td>Residential Land(Land and Building)</td>\n",
       "      <td>Residential Area</td>\n",
       "      <td>14152</td>\n",
       "      <td>Kanagawa Prefecture</td>\n",
       "      <td>Chuo Ward,Sagamihara City</td>\n",
       "      <td>Tana</td>\n",
       "      <td>Kamimizo</td>\n",
       "      <td>30-60minutes</td>\n",
       "      <td>30.00</td>\n",
       "      <td>...</td>\n",
       "      <td>Northwest</td>\n",
       "      <td>City Road</td>\n",
       "      <td>6.00</td>\n",
       "      <td>Category I Exclusively Low-story Residential Zone</td>\n",
       "      <td>50.00</td>\n",
       "      <td>80.00</td>\n",
       "      <td>2012</td>\n",
       "      <td>4</td>\n",
       "      <td>NaN</td>\n",
       "      <td>NaN</td>\n",
       "    </tr>\n",
       "  </tbody>\n",
       "</table>\n",
       "<p>5 rows × 35 columns</p>\n",
       "</div>"
      ],
      "text/plain": [
       "   Id                                 Type            Region  \\\n",
       "0   1                    Agricultural Land               NaN   \n",
       "1   2  Residential Land(Land and Building)  Residential Area   \n",
       "2   3          Residential Land(Land Only)  Residential Area   \n",
       "3   4          Residential Land(Land Only)  Residential Area   \n",
       "4   5  Residential Land(Land and Building)  Residential Area   \n",
       "\n",
       "   MunicipalityCode           Prefecture               Municipality  \\\n",
       "0             12212     Chiba Prefecture                Sakura City   \n",
       "1             11105   Saitama Prefecture     Chuo Ward,Saitama City   \n",
       "2             13114                Tokyo                Nakano Ward   \n",
       "3             14152  Kanagawa Prefecture  Chuo Ward,Sagamihara City   \n",
       "4             14152  Kanagawa Prefecture  Chuo Ward,Sagamihara City   \n",
       "\n",
       "      DistrictName   NearestStation TimeToNearestStation  \\\n",
       "0          Iwatomi              NaN                  NaN   \n",
       "1      Shimoochiai     Yonohonmachi                    4   \n",
       "2        Minamidai  Nakanofujimicho                   19   \n",
       "3  Fuchinobehoncho        Fuchinobe                   16   \n",
       "4             Tana         Kamimizo         30-60minutes   \n",
       "\n",
       "   MinTimeToNearestStation  ...  Direction  Classification Breadth  \\\n",
       "0                      NaN  ...        NaN             NaN     NaN   \n",
       "1                     4.00  ...      North       City Road    4.00   \n",
       "2                    19.00  ...  Southwest    Private Road    4.00   \n",
       "3                    16.00  ...  Southwest    Private Road    5.00   \n",
       "4                    30.00  ...  Northwest       City Road    6.00   \n",
       "\n",
       "                                        CityPlanning  CoverageRatio  \\\n",
       "0                                                NaN            NaN   \n",
       "1  Category II Exclusively Medium-high Residentia...          60.00   \n",
       "2  Category I Exclusively Medium-high Residential...          60.00   \n",
       "3  Category I Exclusively Low-story Residential Zone          50.00   \n",
       "4  Category I Exclusively Low-story Residential Zone          50.00   \n",
       "\n",
       "  FloorAreaRatio  Year  Quarter  Renovation  \\\n",
       "0            NaN  2016        4         NaN   \n",
       "1         200.00  2015        1         NaN   \n",
       "2         200.00  2012        4         NaN   \n",
       "3          80.00  2013        2         NaN   \n",
       "4          80.00  2012        4         NaN   \n",
       "\n",
       "                                             Remarks  \n",
       "0  Dealings in which auction or arbiter participates  \n",
       "1                                                NaN  \n",
       "2                    Dealings including private road  \n",
       "3                                                NaN  \n",
       "4                                                NaN  \n",
       "\n",
       "[5 rows x 35 columns]"
      ]
     },
     "metadata": {},
     "output_type": "display_data"
    },
    {
     "name": "stdout",
     "output_type": "stream",
     "text": [
      "<class 'pandas.core.frame.DataFrame'>\n",
      "RangeIndex: 646308 entries, 0 to 646307\n",
      "Data columns (total 35 columns):\n",
      " #   Column                       Non-Null Count   Dtype  \n",
      "---  ------                       --------------   -----  \n",
      " 0   Id                           646308 non-null  int64  \n",
      " 1   Type                         646308 non-null  object \n",
      " 2   Region                       450280 non-null  object \n",
      " 3   MunicipalityCode             646308 non-null  int64  \n",
      " 4   Prefecture                   646308 non-null  object \n",
      " 5   Municipality                 646308 non-null  object \n",
      " 6   DistrictName                 645986 non-null  object \n",
      " 7   NearestStation               623397 non-null  object \n",
      " 8   TimeToNearestStation         615944 non-null  object \n",
      " 9   MinTimeToNearestStation      615944 non-null  float64\n",
      " 10  MaxTimeToNearestStation      606046 non-null  float64\n",
      " 11  TradePrice                   646308 non-null  int64  \n",
      " 12  FloorPlan                    168800 non-null  object \n",
      " 13  Area                         646308 non-null  int64  \n",
      " 14  AreaIsGreaterFlag            646308 non-null  int64  \n",
      " 15  LandShape                    449001 non-null  object \n",
      " 16  Frontage                     408190 non-null  float64\n",
      " 17  FrontageIsGreaterFlag        646308 non-null  bool   \n",
      " 18  TotalFloorArea               240384 non-null  float64\n",
      " 19  TotalFloorAreaIsGreaterFlag  646308 non-null  int64  \n",
      " 20  BuildingYear                 406733 non-null  float64\n",
      " 21  PrewarBuilding               646308 non-null  int64  \n",
      " 22  Structure                    409330 non-null  object \n",
      " 23  Use                          400667 non-null  object \n",
      " 24  Purpose                      220825 non-null  object \n",
      " 25  Direction                    448931 non-null  object \n",
      " 26  Classification               441654 non-null  object \n",
      " 27  Breadth                      438164 non-null  float64\n",
      " 28  CityPlanning                 618096 non-null  object \n",
      " 29  CoverageRatio                603718 non-null  float64\n",
      " 30  FloorAreaRatio               603718 non-null  float64\n",
      " 31  Year                         646308 non-null  int64  \n",
      " 32  Quarter                      646308 non-null  int64  \n",
      " 33  Renovation                   159158 non-null  object \n",
      " 34  Remarks                      42245 non-null   object \n",
      "dtypes: bool(1), float64(8), int64(9), object(17)\n",
      "memory usage: 168.3+ MB\n"
     ]
    },
    {
     "data": {
      "text/plain": [
       "None"
      ]
     },
     "metadata": {},
     "output_type": "display_data"
    }
   ],
   "source": [
    "result = (\n",
    "train\n",
    ".pipe(head_data)\n",
    ".pipe(get_info)\n",
    ")"
   ]
  },
  {
   "cell_type": "markdown",
   "metadata": {},
   "source": [
    "* 欠損値を持った列がそれなりにあるのでどう処理をするか\n",
    "* ざっと見た感じ文字列が多いのでうまく処理をしたい"
   ]
  },
  {
   "cell_type": "markdown",
   "metadata": {},
   "source": [
    "### TradePrice(目的変数)\n",
    "\n",
    "* [2021年における不動産取引最高額が5兆円ごえなので最大値はありえる](https://www.nli-research.co.jp/report/detail/id=71296?site=nli)\n",
    "* 最小額は100万円とかなので、100円は考えにくい"
   ]
  },
  {
   "cell_type": "code",
   "execution_count": 83,
   "metadata": {},
   "outputs": [
    {
     "name": "stdout",
     "output_type": "stream",
     "text": [
      "count        646308.00\n",
      "mean       40417025.45\n",
      "std       182925797.64\n",
      "min             100.00\n",
      "25%        11000000.00\n",
      "50%        24000000.00\n",
      "75%        39000000.00\n",
      "max     47000000000.00\n",
      "Name: TradePrice, dtype: float64\n"
     ]
    },
    {
     "data": {
      "text/plain": [
       "128447    47000000000\n",
       "129252    27000000000\n",
       "447707    23000000000\n",
       "504904    22000000000\n",
       "397346    21000000000\n",
       "290622    19000000000\n",
       "334930    18000000000\n",
       "310725    18000000000\n",
       "248151    16000000000\n",
       "35461     15000000000\n",
       "239008    15000000000\n",
       "298000    15000000000\n",
       "313327    15000000000\n",
       "595409    15000000000\n",
       "135695    14000000000\n",
       "826       14000000000\n",
       "335901    14000000000\n",
       "438735    14000000000\n",
       "397723    14000000000\n",
       "473290    14000000000\n",
       "Name: TradePrice, dtype: int64"
      ]
     },
     "metadata": {},
     "output_type": "display_data"
    },
    {
     "data": {
      "text/plain": [
       "39400      100\n",
       "357188     300\n",
       "117148     310\n",
       "402283     400\n",
       "585924     480\n",
       "313606     500\n",
       "318641     520\n",
       "130914     530\n",
       "61952      540\n",
       "335016     550\n",
       "191379     550\n",
       "301502     660\n",
       "614346     680\n",
       "607179     800\n",
       "107192     900\n",
       "339728     990\n",
       "610117    1000\n",
       "193682    1000\n",
       "327157    1000\n",
       "178713    1000\n",
       "Name: TradePrice, dtype: int64"
      ]
     },
     "metadata": {},
     "output_type": "display_data"
    },
    {
     "data": {
      "image/png": "[encoded data removed]",
      "text/plain": [
       "<Figure size 640x480 with 1 Axes>"
      ]
     },
     "metadata": {},
     "output_type": "display_data"
    }
   ],
   "source": [
    "# pipe実行セル\n",
    "result =(\n",
    "    train\n",
    "    .pipe(get_describe) # 統計量を表示\n",
    "    .pipe(sort_tradeprice) # 大きい順に２０桁表示\n",
    "    .pipe(sort_tradeprice,ascending_=True)# 小さい順に２０件表示\n",
    "    .pipe(make_barplot) # 箱ひげ図を作成\n",
    ")\n",
    "\n",
    "# データに間違いがないとするなら、最小が100円、最大が470億円となる"
   ]
  },
  {
   "cell_type": "markdown",
   "metadata": {},
   "source": [
    "* describe\n",
    "  * 最小値100円、最大値470億円とかなり幅がある\n",
    "  * 金額の分布を知りたい、数値として、上限下限の値を知りたい\n",
    "* ascending\n",
    "  * 値の一番端の値のみが触れているというわけではない\n",
    "* 箱ひげ図\n",
    "  * 最大値がかなり飛び抜けていることがわかる\n",
    "  * 正規性はあるか確認したい"
   ]
  },
  {
   "cell_type": "code",
   "execution_count": 6,
   "metadata": {},
   "outputs": [
    {
     "data": {
      "text/plain": [
       "128447    47000000000\n",
       "129252    27000000000\n",
       "447707    23000000000\n",
       "504904    22000000000\n",
       "397346    21000000000\n",
       "290622    19000000000\n",
       "334930    18000000000\n",
       "310725    18000000000\n",
       "248151    16000000000\n",
       "35461     15000000000\n",
       "239008    15000000000\n",
       "298000    15000000000\n",
       "313327    15000000000\n",
       "595409    15000000000\n",
       "135695    14000000000\n",
       "826       14000000000\n",
       "335901    14000000000\n",
       "438735    14000000000\n",
       "397723    14000000000\n",
       "473290    14000000000\n",
       "Name: TradePrice, dtype: int64"
      ]
     },
     "execution_count": 6,
     "metadata": {},
     "output_type": "execute_result"
    }
   ],
   "source": [
    "# tradepriceの最大値順に表示\n",
    "price.sort_values(ascending=False).head(20)"
   ]
  },
  {
   "cell_type": "code",
   "execution_count": 7,
   "metadata": {},
   "outputs": [
    {
     "data": {
      "text/plain": [
       "39400      100\n",
       "357188     300\n",
       "117148     310\n",
       "402283     400\n",
       "585924     480\n",
       "313606     500\n",
       "318641     520\n",
       "130914     530\n",
       "61952      540\n",
       "335016     550\n",
       "191379     550\n",
       "301502     660\n",
       "614346     680\n",
       "607179     800\n",
       "107192     900\n",
       "339728     990\n",
       "610117    1000\n",
       "193682    1000\n",
       "327157    1000\n",
       "178713    1000\n",
       "Name: TradePrice, dtype: int64"
      ]
     },
     "execution_count": 7,
     "metadata": {},
     "output_type": "execute_result"
    }
   ],
   "source": [
    "# tradepriceの最小値順に表示\n",
    "price.sort_values(ascending=True).head(20)\n",
    "\n",
    "# 最小値のみが大きく外れいると思ったがそういう訳でもなさそう\n",
    "# 考えられること：桁数の入力忘れ、知人間でタダ同然に渡したなど"
   ]
  },
  {
   "cell_type": "code",
   "execution_count": 48,
   "metadata": {},
   "outputs": [
    {
     "name": "stdout",
     "output_type": "stream",
     "text": [
      "-31000000.0 81000000.0\n"
     ]
    }
   ],
   "source": [
    "# 四分位範囲による外れ値の算出\n",
    "Q1 = price.quantile(0.25)\n",
    "Q3 = price.quantile(0.75)\n",
    "IQR = Q3 - Q1\n",
    "# 外れ値（下）を算出\n",
    "out_under = Q1-1.5*IQR\n",
    "# 外れ値（上）を算出\n",
    "out_over = Q3+1.5*IQR\n",
    "print(out_under,out_over)"
   ]
  },
  {
   "cell_type": "code",
   "execution_count": 39,
   "metadata": {},
   "outputs": [
    {
     "data": {
      "text/plain": [
       "605749"
      ]
     },
     "execution_count": 39,
     "metadata": {},
     "output_type": "execute_result"
    }
   ],
   "source": [
    "pp =train[train['TradePrice']<out_over]['TradePrice']\n",
    "len(pp)\n",
    "# 大体4万件省かれているので、無視していい量ではない"
   ]
  },
  {
   "cell_type": "code",
   "execution_count": 49,
   "metadata": {},
   "outputs": [
    {
     "data": {
      "image/png": "[encoded data removed]",
      "text/plain": [
       "<Figure size 640x480 with 1 Axes>"
      ]
     },
     "metadata": {},
     "output_type": "display_data"
    }
   ],
   "source": [
    "# 外れ値を除外したhistplot\n",
    "\n",
    "sns.histplot(pp,bins=10,kde=True)\n",
    "plt.show()\n",
    "# 800万円までの範囲であれば、１００万円までの範囲が最も大きく、値が増えるほど件数が減っている"
   ]
  },
  {
   "cell_type": "code",
   "execution_count": 44,
   "metadata": {},
   "outputs": [
    {
     "data": {
      "image/png": "[encoded data removed]",
      "text/plain": [
       "<Figure size 640x480 with 1 Axes>"
      ]
     },
     "metadata": {},
     "output_type": "display_data"
    }
   ],
   "source": [
    "# 対数化してヒストグラム表示\n",
    "\n",
    "sns.histplot(np.log1p(price),bins=100)\n",
    "plt.show()\n",
    "\n",
    "# 対数化するとかなり外れ値の影響を受けづらいデータとなる"
   ]
  },
  {
   "cell_type": "code",
   "execution_count": 45,
   "metadata": {},
   "outputs": [],
   "source": [
    "train['log_tardeprice'] = np.log1p(price)"
   ]
  },
  {
   "cell_type": "markdown",
   "metadata": {},
   "source": [
    "### 引き続きEDA"
   ]
  },
  {
   "cell_type": "code",
   "execution_count": null,
   "metadata": {},
   "outputs": [],
   "source": []
  }
 ],
 "metadata": {
  "kernelspec": {
   "display_name": "myzone",
   "language": "python",
   "name": "python3"
  },
  "language_info": {
   "codemirror_mode": {
    "name": "ipython",
    "version": 3
   },
   "file_extension": ".py",
   "mimetype": "text/x-python",
   "name": "python",
   "nbconvert_exporter": "python",
   "pygments_lexer": "ipython3",
   "version": "3.11.3"
  },
  "orig_nbformat": 4
 },
 "nbformat": 4,
 "nbformat_minor": 2
}
