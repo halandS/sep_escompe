{
 "cells": [
  {
   "cell_type": "markdown",
   "source": [
    "続きからやること\n",
    "1. 対数化をpipeにするとこから\n",
    "2. 次々の特徴量をpipeで書いていく"
   ],
   "metadata": {}
  },
  {
   "cell_type": "markdown",
   "source": [
    "### コンペ概要\n",
    "\n",
    "* 目的：関東地方のさまざまな不動産情報をもとに、各不動産の最終価格を予想するコンペです。\n",
    "  * 実際に取引された価格のニュアンスでいいはず\n",
    "* 評価関数：RMSLE(二乗平均平方根対数誤差)\n",
    "* 提出物\n",
    "  1. コンペとしての結果（普通にやればいい）\n",
    "  2. それに使ったノートブックファイル\n",
    "     1. EDA（探索的分析）の結果としてグラフを1つ以上出力すること。\n",
    "     2. データの分割方法について記述すること。\n",
    "     3. 出力結果を残した状態で提出すること。 \n",
    "\n",
    "なので、ファイルを横展開するのは現実的ではない（その後にまとめる必要があるので）\n",
    "\n",
    "* 提出上限　1日3件"
   ],
   "metadata": {}
  },
  {
   "cell_type": "markdown",
   "source": [
    "### 方針\n",
    "\n",
    "* EDAをする\n",
    "* 使えるデータだけで一旦爆速提出\n"
   ],
   "metadata": {}
  },
  {
   "cell_type": "markdown",
   "source": [
    "### 目標（後で消す）\n",
    "\n",
    "* 一位をとる　業務に支障が出ない範囲で\n",
    "* pipeを使う\n",
    "  * EDAに対してはあまり有効ではないのでは？（すぐに結果を見たいので）\n",
    "  * どの列に対しても、似通った操作をしたいことはあるし、関数を１箇所にしておけば可読性が上がるからpipeの意味はありそう"
   ],
   "metadata": {}
  },
  {
   "cell_type": "markdown",
   "source": [
    "### EDA\n",
    "\n",
    "trainデータの特徴\n",
    "* 646308行*35列のデータ(かなり学習しがいがありそう)\n",
    "* 目的変数はtradeprice\n",
    "\n",
    "各列の特徴,どのように処理するか\n",
    "1. id:識別番号 \n",
    "  * 無視（というか削除）でいい\n",
    "2. Type:不動産の種類\n",
    "3. Region:周辺地域の特徴\n",
    "4. MunicipalityCode:市外局番\n",
    "5. Prefecture:都道府県名\n",
    "6. Municipality:市の名前\n",
    "7. District:地区名\n",
    "8. NearestStation:最寄りの駅名\n",
    "9. TimeToNearestStation:最寄りの駅までの時間（文字値を含む）\n",
    "10. MinTimeToNearestStation:TimeToNearestStation から生成される最寄りの駅までの最小時間 (分)\n",
    "11. MaxTimeToNearestStation:TimeToNearestStation から生成される最寄りの駅までの最大時間 (分)\n",
    "12. TradePrice： 取引価格（円）目標\n",
    "    1.  目的変数\n",
    "13. FloorPlan：フロアプラン\n",
    "14. Area：調査面積 (m^2)\n",
    "15. AreaIsGreaterFlag：2000 m^2 以上のエリア、エリア データは 2000 で表示され、このフラグは true\n",
    "16. LandShape：土地の形状\n",
    "17. Frontage： 間口(m)\n",
    "18. FrontageIsGreaterFlag：一部の元の間口データには「50.0m 以上」と記録されているため、間口を数値に変換してこのフラグを追加しました\n",
    "19. TotalFloorArea：延床面積 (m^2)\n",
    "20. TotalFloorAreaIsGreaterFlag： 一部のデータは「2,000 m^2 以上」と表示されるため、TotalFloorArea を数値に変換してこのフラグを追加しました\n",
    "21. BuildingYear：建物の建設年\n",
    "22. PrewarBuilding：1945年以前に建てられた建物については、建築年データを「戦前」と表示しています。そこで、Build Year を 1945 に変換し、このフラグを追加しました\n",
    "23. Structure：建物の構造。SRC=鉄骨鉄筋コンクリート造、RC=鉄筋コンクリート造、S=鉄骨造、LS=軽量鉄骨造、B=コンクリートブロック造、W=木造\n",
    "24. Use：現在の使用状況。例：住宅、オフィス、店舗、工場、倉庫、作業場、駐車場など\n",
    "25. Purpose：将来の使用目的。たとえば、住宅、店舗、オフィス、工場、倉庫などです。\n",
    "26. Direction： 側道方向\n",
    "27. Classification：側道区分\n",
    "28. Breadth：間口道路幅員（m）\n",
    "29. CityPlanning：都市計画法に基づく用途地\n",
    "30. CoverageRatio：最大建蔽率(%)\n",
    "31. FloorAreaRatio：最大容積率(%)\n",
    "32. Year：期間から生成されたトランザクション年の時\n",
    "33. Quarter：期間から生成されたトランザクションの年-四半期の時刻\n",
    "34. Renovation：リノベーション？\n",
    "35. Remarks：注記"
   ],
   "metadata": {}
  },
  {
   "cell_type": "markdown",
   "source": [
    "数値として適応されているデータと、その数値が一定を超えた時にフラグが発生しているイメージ"
   ],
   "metadata": {}
  },
  {
   "cell_type": "markdown",
   "source": [
    "## 関数セル"
   ],
   "metadata": {}
  },
  {
   "cell_type": "code",
   "execution_count": 17,
   "source": [
    "# モジュール読み込みセル\r\n",
    "import pandas as pd\r\n",
    "import matplotlib as mpl\r\n",
    "import matplotlib.pyplot as plt\r\n",
    "import seaborn as sns\r\n",
    "import numpy as np\r\n",
    "from sklearn.preprocessing import StandardScaler\r\n"
   ],
   "outputs": [],
   "metadata": {}
  },
  {
   "cell_type": "code",
   "execution_count": 48,
   "source": [
    "# pipe用関数セル\r\n",
    "\r\n",
    "#　0.データの読み込み\r\n",
    "def load_data(path):\r\n",
    "    return pd.read_csv(path)\r\n",
    "\r\n",
    "# 0-1.データフレームの表示\r\n",
    "def head_data(df):\r\n",
    "    display(df.head())\r\n",
    "    return df\r\n",
    "# 0-2.欠損値情報について\r\n",
    "def get_info(df):\r\n",
    "    display(df.info())\r\n",
    "    return df\r\n",
    "# 1.統計量の表示\r\n",
    "def get_describe(df,name='TradePrice'):\r\n",
    "    pd.set_option('display.float_format', '{:.2f}'.format)\r\n",
    "    print(df[name].describe())\r\n",
    "    return df\r\n",
    "# 2.箱ひげ図\r\n",
    "def make_barplot(df,name='TradePrice'):\r\n",
    "    sns.boxplot(data=df[f\"{name}\"])\r\n",
    "    plt.show()\r\n",
    "    return df\r\n",
    "\r\n",
    "# 3.tradepriceを昇順（降順）に表示\r\n",
    "def sort_tradeprice(df,ascending_=False, gg=20):\r\n",
    "    display(df['TradePrice'].sort_values(ascending=ascending_).head(gg))\r\n",
    "    return df\r\n",
    "# 3-1-0 .外れ値の算出関数 外れ値の確認だけをしている\r\n",
    "def check_outrange(df, name='TradePrice'):\r\n",
    "    # 四分位範囲による外れ値の算出\r\n",
    "    Q1 = df[name].quantile(0.25)\r\n",
    "    Q3 = df[name].quantile(0.75)\r\n",
    "    IQR = Q3 - Q1\r\n",
    "    # 外れ値（下）を算出\r\n",
    "    out_under = Q1-1.5*IQR\r\n",
    "    # 外れ値（上）を算出\r\n",
    "    out_over = Q3+1.5*IQR\r\n",
    "    print(f\"下の外れ値：{out_under} 上の外れ値：{out_over}\")\r\n",
    "    return df, out_under,out_over\r\n",
    "\r\n",
    "# 3-1-1. 外れ値のみの統計量や分布\r\n",
    "def outrange_describe(df,name_='TradePrice'):\r\n",
    "    df, out_under,out_over = check_outrange(df, name=name_) \r\n",
    "    # 外れ値の下側は存在しないので今回は書かない\r\n",
    "    df_ov =df[df[name_] > out_over]\r\n",
    "    print('外れ値について ========')\r\n",
    "    df_ov =(\r\n",
    "        df_ov\r\n",
    "        # 統計量の表示\r\n",
    "        .pipe(get_describe)\r\n",
    "        # histgramの図示\r\n",
    "        .pipe(make_histplot)\r\n",
    "    )\r\n",
    "    print('====================')\r\n",
    "    return df\r\n",
    "\r\n",
    "# 3-1-2. 外れ値を除外したデータを返す\r\n",
    "def dev_outrange(df,name_='TradePrice'): \r\n",
    "    df, out_under,out_over = check_outrange(df, name=name_)\r\n",
    "    df_innerrange =df[(out_under < df[name_]) & (df[name_]<out_over)]\r\n",
    "    # 外れ値を除くのであれば、この関数を使えばいいし\r\n",
    "    # 使わないのであれば、このpipeを除けばいいので問題はない\r\n",
    "    print(f\"外れ値を除いた個数：{len(df_innerrange)}\")\r\n",
    "    return df_innerrange\r\n",
    "\r\n",
    "# 3-1.外れ値を除外して,ヒストグラムを表示\r\n",
    "def innnerrange(df, name='TradePrice'):\r\n",
    "    # 外れ値を除く処理\r\n",
    "    df_innerrange = dev_outrange(df,name_=name)\r\n",
    "    # 外れ値を除いたものに対して、ヒストグラムを表示\r\n",
    "    df_innerrange = make_histplot(df_innerrange,bin=8)\r\n",
    "    return df\r\n",
    "\r\n",
    "# 4.histplotの図示\r\n",
    "def make_histplot(df,name='TradePrice' ,bin=10,types=None):\r\n",
    "    df_1 = df.copy()\r\n",
    "    if types == 'standard':\r\n",
    "        df_1 = make_standerdscaler(df_1)\r\n",
    "    elif types == 'log':\r\n",
    "        df_1 = make_log(df_1)\r\n",
    "    sns.histplot(df_1[f\"{name}\"],bins=bin,kde=True)\r\n",
    "    plt.show()\r\n",
    "    return df\r\n",
    "\r\n",
    "# 5. 対数化\r\n",
    "def make_log(df, name_='TradePrice'):\r\n",
    "    # 対数化してデータに返す\r\n",
    "    df[name_] = np.log1p(df[name_])\r\n",
    "    return df\r\n",
    "# 6. 標準化による正規化\r\n",
    "def make_standerdscaler(df,name='TradePrice'):\r\n",
    "    scalar = StandardScaler()\r\n",
    "    df[name] = scalar.fit_transform(df[[name]])\r\n",
    "    return df\r\n",
    "    "
   ],
   "outputs": [],
   "metadata": {}
  },
  {
   "cell_type": "code",
   "execution_count": 44,
   "source": [
    "# trainデータ読み込み\r\n",
    "train =(\r\n",
    "    load_data('estyle-2023/train.csv')\r\n",
    ")"
   ],
   "outputs": [],
   "metadata": {}
  },
  {
   "cell_type": "markdown",
   "source": [
    "データ全体の情報を確認"
   ],
   "metadata": {}
  },
  {
   "cell_type": "code",
   "execution_count": 31,
   "source": [
    "result = (\r\n",
    "train\r\n",
    ".pipe(head_data)\r\n",
    ".pipe(get_info)\r\n",
    ")"
   ],
   "outputs": [
    {
     "output_type": "display_data",
     "data": {
      "text/html": [
       "<div>\n",
       "<style scoped>\n",
       "    .dataframe tbody tr th:only-of-type {\n",
       "        vertical-align: middle;\n",
       "    }\n",
       "\n",
       "    .dataframe tbody tr th {\n",
       "        vertical-align: top;\n",
       "    }\n",
       "\n",
       "    .dataframe thead th {\n",
       "        text-align: right;\n",
       "    }\n",
       "</style>\n",
       "<table border=\"1\" class=\"dataframe\">\n",
       "  <thead>\n",
       "    <tr style=\"text-align: right;\">\n",
       "      <th></th>\n",
       "      <th>Id</th>\n",
       "      <th>Type</th>\n",
       "      <th>Region</th>\n",
       "      <th>MunicipalityCode</th>\n",
       "      <th>Prefecture</th>\n",
       "      <th>Municipality</th>\n",
       "      <th>DistrictName</th>\n",
       "      <th>NearestStation</th>\n",
       "      <th>TimeToNearestStation</th>\n",
       "      <th>MinTimeToNearestStation</th>\n",
       "      <th>...</th>\n",
       "      <th>Direction</th>\n",
       "      <th>Classification</th>\n",
       "      <th>Breadth</th>\n",
       "      <th>CityPlanning</th>\n",
       "      <th>CoverageRatio</th>\n",
       "      <th>FloorAreaRatio</th>\n",
       "      <th>Year</th>\n",
       "      <th>Quarter</th>\n",
       "      <th>Renovation</th>\n",
       "      <th>Remarks</th>\n",
       "    </tr>\n",
       "  </thead>\n",
       "  <tbody>\n",
       "    <tr>\n",
       "      <th>0</th>\n",
       "      <td>1</td>\n",
       "      <td>Agricultural Land</td>\n",
       "      <td>NaN</td>\n",
       "      <td>12212</td>\n",
       "      <td>Chiba Prefecture</td>\n",
       "      <td>Sakura City</td>\n",
       "      <td>Iwatomi</td>\n",
       "      <td>NaN</td>\n",
       "      <td>NaN</td>\n",
       "      <td>NaN</td>\n",
       "      <td>...</td>\n",
       "      <td>NaN</td>\n",
       "      <td>NaN</td>\n",
       "      <td>NaN</td>\n",
       "      <td>NaN</td>\n",
       "      <td>NaN</td>\n",
       "      <td>NaN</td>\n",
       "      <td>2016</td>\n",
       "      <td>4</td>\n",
       "      <td>NaN</td>\n",
       "      <td>Dealings in which auction or arbiter participates</td>\n",
       "    </tr>\n",
       "    <tr>\n",
       "      <th>1</th>\n",
       "      <td>2</td>\n",
       "      <td>Residential Land(Land and Building)</td>\n",
       "      <td>Residential Area</td>\n",
       "      <td>11105</td>\n",
       "      <td>Saitama Prefecture</td>\n",
       "      <td>Chuo Ward,Saitama City</td>\n",
       "      <td>Shimoochiai</td>\n",
       "      <td>Yonohonmachi</td>\n",
       "      <td>4</td>\n",
       "      <td>4.00</td>\n",
       "      <td>...</td>\n",
       "      <td>North</td>\n",
       "      <td>City Road</td>\n",
       "      <td>4.00</td>\n",
       "      <td>Category II Exclusively Medium-high Residentia...</td>\n",
       "      <td>60.00</td>\n",
       "      <td>200.00</td>\n",
       "      <td>2015</td>\n",
       "      <td>1</td>\n",
       "      <td>NaN</td>\n",
       "      <td>NaN</td>\n",
       "    </tr>\n",
       "    <tr>\n",
       "      <th>2</th>\n",
       "      <td>3</td>\n",
       "      <td>Residential Land(Land Only)</td>\n",
       "      <td>Residential Area</td>\n",
       "      <td>13114</td>\n",
       "      <td>Tokyo</td>\n",
       "      <td>Nakano Ward</td>\n",
       "      <td>Minamidai</td>\n",
       "      <td>Nakanofujimicho</td>\n",
       "      <td>19</td>\n",
       "      <td>19.00</td>\n",
       "      <td>...</td>\n",
       "      <td>Southwest</td>\n",
       "      <td>Private Road</td>\n",
       "      <td>4.00</td>\n",
       "      <td>Category I Exclusively Medium-high Residential...</td>\n",
       "      <td>60.00</td>\n",
       "      <td>200.00</td>\n",
       "      <td>2012</td>\n",
       "      <td>4</td>\n",
       "      <td>NaN</td>\n",
       "      <td>Dealings including private road</td>\n",
       "    </tr>\n",
       "    <tr>\n",
       "      <th>3</th>\n",
       "      <td>4</td>\n",
       "      <td>Residential Land(Land Only)</td>\n",
       "      <td>Residential Area</td>\n",
       "      <td>14152</td>\n",
       "      <td>Kanagawa Prefecture</td>\n",
       "      <td>Chuo Ward,Sagamihara City</td>\n",
       "      <td>Fuchinobehoncho</td>\n",
       "      <td>Fuchinobe</td>\n",
       "      <td>16</td>\n",
       "      <td>16.00</td>\n",
       "      <td>...</td>\n",
       "      <td>Southwest</td>\n",
       "      <td>Private Road</td>\n",
       "      <td>5.00</td>\n",
       "      <td>Category I Exclusively Low-story Residential Zone</td>\n",
       "      <td>50.00</td>\n",
       "      <td>80.00</td>\n",
       "      <td>2013</td>\n",
       "      <td>2</td>\n",
       "      <td>NaN</td>\n",
       "      <td>NaN</td>\n",
       "    </tr>\n",
       "    <tr>\n",
       "      <th>4</th>\n",
       "      <td>5</td>\n",
       "      <td>Residential Land(Land and Building)</td>\n",
       "      <td>Residential Area</td>\n",
       "      <td>14152</td>\n",
       "      <td>Kanagawa Prefecture</td>\n",
       "      <td>Chuo Ward,Sagamihara City</td>\n",
       "      <td>Tana</td>\n",
       "      <td>Kamimizo</td>\n",
       "      <td>30-60minutes</td>\n",
       "      <td>30.00</td>\n",
       "      <td>...</td>\n",
       "      <td>Northwest</td>\n",
       "      <td>City Road</td>\n",
       "      <td>6.00</td>\n",
       "      <td>Category I Exclusively Low-story Residential Zone</td>\n",
       "      <td>50.00</td>\n",
       "      <td>80.00</td>\n",
       "      <td>2012</td>\n",
       "      <td>4</td>\n",
       "      <td>NaN</td>\n",
       "      <td>NaN</td>\n",
       "    </tr>\n",
       "  </tbody>\n",
       "</table>\n",
       "<p>5 rows × 35 columns</p>\n",
       "</div>"
      ],
      "text/plain": [
       "   Id                                 Type            Region  \\\n",
       "0   1                    Agricultural Land               NaN   \n",
       "1   2  Residential Land(Land and Building)  Residential Area   \n",
       "2   3          Residential Land(Land Only)  Residential Area   \n",
       "3   4          Residential Land(Land Only)  Residential Area   \n",
       "4   5  Residential Land(Land and Building)  Residential Area   \n",
       "\n",
       "   MunicipalityCode           Prefecture               Municipality  \\\n",
       "0             12212     Chiba Prefecture                Sakura City   \n",
       "1             11105   Saitama Prefecture     Chuo Ward,Saitama City   \n",
       "2             13114                Tokyo                Nakano Ward   \n",
       "3             14152  Kanagawa Prefecture  Chuo Ward,Sagamihara City   \n",
       "4             14152  Kanagawa Prefecture  Chuo Ward,Sagamihara City   \n",
       "\n",
       "      DistrictName   NearestStation TimeToNearestStation  \\\n",
       "0          Iwatomi              NaN                  NaN   \n",
       "1      Shimoochiai     Yonohonmachi                    4   \n",
       "2        Minamidai  Nakanofujimicho                   19   \n",
       "3  Fuchinobehoncho        Fuchinobe                   16   \n",
       "4             Tana         Kamimizo         30-60minutes   \n",
       "\n",
       "   MinTimeToNearestStation  ...  Direction  Classification Breadth  \\\n",
       "0                      NaN  ...        NaN             NaN     NaN   \n",
       "1                     4.00  ...      North       City Road    4.00   \n",
       "2                    19.00  ...  Southwest    Private Road    4.00   \n",
       "3                    16.00  ...  Southwest    Private Road    5.00   \n",
       "4                    30.00  ...  Northwest       City Road    6.00   \n",
       "\n",
       "                                        CityPlanning  CoverageRatio  \\\n",
       "0                                                NaN            NaN   \n",
       "1  Category II Exclusively Medium-high Residentia...          60.00   \n",
       "2  Category I Exclusively Medium-high Residential...          60.00   \n",
       "3  Category I Exclusively Low-story Residential Zone          50.00   \n",
       "4  Category I Exclusively Low-story Residential Zone          50.00   \n",
       "\n",
       "  FloorAreaRatio  Year  Quarter  Renovation  \\\n",
       "0            NaN  2016        4         NaN   \n",
       "1         200.00  2015        1         NaN   \n",
       "2         200.00  2012        4         NaN   \n",
       "3          80.00  2013        2         NaN   \n",
       "4          80.00  2012        4         NaN   \n",
       "\n",
       "                                             Remarks  \n",
       "0  Dealings in which auction or arbiter participates  \n",
       "1                                                NaN  \n",
       "2                    Dealings including private road  \n",
       "3                                                NaN  \n",
       "4                                                NaN  \n",
       "\n",
       "[5 rows x 35 columns]"
      ]
     },
     "metadata": {}
    },
    {
     "output_type": "stream",
     "name": "stdout",
     "text": [
      "<class 'pandas.core.frame.DataFrame'>\n",
      "RangeIndex: 646308 entries, 0 to 646307\n",
      "Data columns (total 35 columns):\n",
      " #   Column                       Non-Null Count   Dtype  \n",
      "---  ------                       --------------   -----  \n",
      " 0   Id                           646308 non-null  int64  \n",
      " 1   Type                         646308 non-null  object \n",
      " 2   Region                       450280 non-null  object \n",
      " 3   MunicipalityCode             646308 non-null  int64  \n",
      " 4   Prefecture                   646308 non-null  object \n",
      " 5   Municipality                 646308 non-null  object \n",
      " 6   DistrictName                 645986 non-null  object \n",
      " 7   NearestStation               623397 non-null  object \n",
      " 8   TimeToNearestStation         615944 non-null  object \n",
      " 9   MinTimeToNearestStation      615944 non-null  float64\n",
      " 10  MaxTimeToNearestStation      606046 non-null  float64\n",
      " 11  TradePrice                   646308 non-null  int64  \n",
      " 12  FloorPlan                    168800 non-null  object \n",
      " 13  Area                         646308 non-null  int64  \n",
      " 14  AreaIsGreaterFlag            646308 non-null  int64  \n",
      " 15  LandShape                    449001 non-null  object \n",
      " 16  Frontage                     408190 non-null  float64\n",
      " 17  FrontageIsGreaterFlag        646308 non-null  bool   \n",
      " 18  TotalFloorArea               240384 non-null  float64\n",
      " 19  TotalFloorAreaIsGreaterFlag  646308 non-null  int64  \n",
      " 20  BuildingYear                 406733 non-null  float64\n",
      " 21  PrewarBuilding               646308 non-null  int64  \n",
      " 22  Structure                    409330 non-null  object \n",
      " 23  Use                          400667 non-null  object \n",
      " 24  Purpose                      220825 non-null  object \n",
      " 25  Direction                    448931 non-null  object \n",
      " 26  Classification               441654 non-null  object \n",
      " 27  Breadth                      438164 non-null  float64\n",
      " 28  CityPlanning                 618096 non-null  object \n",
      " 29  CoverageRatio                603718 non-null  float64\n",
      " 30  FloorAreaRatio               603718 non-null  float64\n",
      " 31  Year                         646308 non-null  int64  \n",
      " 32  Quarter                      646308 non-null  int64  \n",
      " 33  Renovation                   159158 non-null  object \n",
      " 34  Remarks                      42245 non-null   object \n",
      "dtypes: bool(1), float64(8), int64(9), object(17)\n",
      "memory usage: 168.3+ MB\n"
     ]
    },
    {
     "output_type": "display_data",
     "data": {
      "text/plain": [
       "None"
      ]
     },
     "metadata": {}
    }
   ],
   "metadata": {}
  },
  {
   "cell_type": "markdown",
   "source": [
    "* 欠損値を持った列がそれなりにあるのでどう処理をするか\n",
    "* ざっと見た感じ文字列が多いのでうまく処理をしたい"
   ],
   "metadata": {}
  },
  {
   "cell_type": "markdown",
   "source": [
    "### TradePrice(目的変数)\n",
    "\n",
    "* [2021年における不動産取引最高額が5兆円ごえなので最大値はありえる](https://www.nli-research.co.jp/report/detail/id=71296?site=nli)\n",
    "* 最小額は100万円とかなので、100円は考えにくい"
   ],
   "metadata": {}
  },
  {
   "cell_type": "code",
   "execution_count": 55,
   "source": [
    "# pipe実行セル1\r\n",
    "result =(\r\n",
    "    train\r\n",
    "    .pipe(get_describe) # 統計量を表示\r\n",
    "    .pipe(make_histplot, bin=20) # ヒストグラムの表示\r\n",
    "    .pipe(sort_tradeprice) # 大きい順に２０桁表示\r\n",
    "    .pipe(sort_tradeprice,ascending_=True)# 小さい順に２０件表示\r\n",
    "    .pipe(make_barplot) # 箱ひげ図を作成\r\n",
    "    .pipe(outrange_describe) # 外れ値の統計量\r\n",
    "    .pipe(innnerrange) # 外れ値でない値のヒストグラム\r\n",
    "    .pipe(make_histplot, types='log',bin=20) # 対数の表示\r\n",
    "    .pipe(make_histplot, types='standard', bin=5) #標準化の表示\r\n",
    ")"
   ],
   "outputs": [
    {
     "output_type": "stream",
     "name": "stdout",
     "text": [
      "count   646308.00\n",
      "mean         0.00\n",
      "std          1.00\n",
      "min         -0.22\n",
      "25%         -0.16\n",
      "50%         -0.09\n",
      "75%         -0.01\n",
      "max        256.71\n",
      "Name: TradePrice, dtype: float64\n"
     ]
    },
    {
     "output_type": "stream",
     "name": "stderr",
     "text": [
      "C:\\pg\\Python39\\lib\\site-packages\\seaborn\\_oldcore.py:1498: FutureWarning: is_categorical_dtype is deprecated and will be removed in a future version. Use isinstance(dtype, CategoricalDtype) instead\n",
      "  if pd.api.types.is_categorical_dtype(vector):\n",
      "C:\\pg\\Python39\\lib\\site-packages\\seaborn\\_oldcore.py:1119: FutureWarning: use_inf_as_na option is deprecated and will be removed in a future version. Convert inf values to NaN before operating instead.\n",
      "  with pd.option_context('mode.use_inf_as_na', True):\n"
     ]
    },
    {
     "output_type": "display_data",
     "data": {
      "image/png": "[encoded data removed]",
      "text/plain": [
       "<Figure size 640x480 with 1 Axes>"
      ]
     },
     "metadata": {}
    },
    {
     "output_type": "display_data",
     "data": {
      "text/plain": [
       "128447   256.71\n",
       "129252   147.38\n",
       "447707   125.51\n",
       "504904   120.05\n",
       "397346   114.58\n",
       "290622   103.65\n",
       "334930    98.18\n",
       "310725    98.18\n",
       "248151    87.25\n",
       "35461     81.78\n",
       "239008    81.78\n",
       "298000    81.78\n",
       "313327    81.78\n",
       "595409    81.78\n",
       "135695    76.31\n",
       "826       76.31\n",
       "335901    76.31\n",
       "438735    76.31\n",
       "397723    76.31\n",
       "473290    76.31\n",
       "Name: TradePrice, dtype: float64"
      ]
     },
     "metadata": {}
    },
    {
     "output_type": "display_data",
     "data": {
      "text/plain": [
       "39400    -0.22\n",
       "357188   -0.22\n",
       "117148   -0.22\n",
       "402283   -0.22\n",
       "585924   -0.22\n",
       "313606   -0.22\n",
       "318641   -0.22\n",
       "130914   -0.22\n",
       "61952    -0.22\n",
       "335016   -0.22\n",
       "191379   -0.22\n",
       "301502   -0.22\n",
       "614346   -0.22\n",
       "607179   -0.22\n",
       "107192   -0.22\n",
       "339728   -0.22\n",
       "610117   -0.22\n",
       "193682   -0.22\n",
       "327157   -0.22\n",
       "178713   -0.22\n",
       "Name: TradePrice, dtype: float64"
      ]
     },
     "metadata": {}
    },
    {
     "output_type": "display_data",
     "data": {
      "image/png": "[encoded data removed]",
      "text/plain": [
       "<Figure size 640x480 with 1 Axes>"
      ]
     },
     "metadata": {}
    },
    {
     "output_type": "stream",
     "name": "stdout",
     "text": [
      "下の外れ値：-0.39041557628905976 上の外れ値：0.22185501697554738\n",
      "外れ値について ========\n",
      "count   40559.00\n",
      "mean        1.28\n",
      "std         3.75\n",
      "min         0.22\n",
      "25%         0.32\n",
      "50%         0.54\n",
      "75%         1.09\n",
      "max       256.71\n",
      "Name: TradePrice, dtype: float64\n"
     ]
    },
    {
     "output_type": "stream",
     "name": "stderr",
     "text": [
      "C:\\pg\\Python39\\lib\\site-packages\\seaborn\\_oldcore.py:1498: FutureWarning: is_categorical_dtype is deprecated and will be removed in a future version. Use isinstance(dtype, CategoricalDtype) instead\n",
      "  if pd.api.types.is_categorical_dtype(vector):\n",
      "C:\\pg\\Python39\\lib\\site-packages\\seaborn\\_oldcore.py:1119: FutureWarning: use_inf_as_na option is deprecated and will be removed in a future version. Convert inf values to NaN before operating instead.\n",
      "  with pd.option_context('mode.use_inf_as_na', True):\n"
     ]
    },
    {
     "output_type": "display_data",
     "data": {
      "image/png": "[encoded data removed]",
      "text/plain": [
       "<Figure size 640x480 with 1 Axes>"
      ]
     },
     "metadata": {}
    },
    {
     "output_type": "stream",
     "name": "stdout",
     "text": [
      "====================\n",
      "下の外れ値：-0.39041557628905976 上の外れ値：0.22185501697554738\n",
      "外れ値を除いた個数：605749\n"
     ]
    },
    {
     "output_type": "stream",
     "name": "stderr",
     "text": [
      "C:\\pg\\Python39\\lib\\site-packages\\seaborn\\_oldcore.py:1498: FutureWarning: is_categorical_dtype is deprecated and will be removed in a future version. Use isinstance(dtype, CategoricalDtype) instead\n",
      "  if pd.api.types.is_categorical_dtype(vector):\n",
      "C:\\pg\\Python39\\lib\\site-packages\\seaborn\\_oldcore.py:1119: FutureWarning: use_inf_as_na option is deprecated and will be removed in a future version. Convert inf values to NaN before operating instead.\n",
      "  with pd.option_context('mode.use_inf_as_na', True):\n"
     ]
    },
    {
     "output_type": "display_data",
     "data": {
      "image/png": "[encoded data removed]",
      "text/plain": [
       "<Figure size 640x480 with 1 Axes>"
      ]
     },
     "metadata": {}
    },
    {
     "output_type": "stream",
     "name": "stderr",
     "text": [
      "C:\\pg\\Python39\\lib\\site-packages\\seaborn\\_oldcore.py:1498: FutureWarning: is_categorical_dtype is deprecated and will be removed in a future version. Use isinstance(dtype, CategoricalDtype) instead\n",
      "  if pd.api.types.is_categorical_dtype(vector):\n",
      "C:\\pg\\Python39\\lib\\site-packages\\seaborn\\_oldcore.py:1119: FutureWarning: use_inf_as_na option is deprecated and will be removed in a future version. Convert inf values to NaN before operating instead.\n",
      "  with pd.option_context('mode.use_inf_as_na', True):\n"
     ]
    },
    {
     "output_type": "display_data",
     "data": {
      "image/png": "[encoded data removed]",
      "text/plain": [
       "<Figure size 640x480 with 1 Axes>"
      ]
     },
     "metadata": {}
    },
    {
     "output_type": "error",
     "ename": "TypeError",
     "evalue": "make_histplot() got an unexpected keyword argument 'kde'",
     "traceback": [
      "\u001b[1;31m---------------------------------------------------------------------------\u001b[0m",
      "\u001b[1;31mTypeError\u001b[0m                                 Traceback (most recent call last)",
      "Cell \u001b[1;32mIn[55], line 3\u001b[0m\n\u001b[0;32m      1\u001b[0m \u001b[38;5;66;03m# pipe実行セル1\u001b[39;00m\n\u001b[0;32m      2\u001b[0m result \u001b[38;5;241m=\u001b[39m(\n\u001b[1;32m----> 3\u001b[0m     \u001b[43mtrain\u001b[49m\n\u001b[0;32m      4\u001b[0m \u001b[43m    \u001b[49m\u001b[38;5;241;43m.\u001b[39;49m\u001b[43mpipe\u001b[49m\u001b[43m(\u001b[49m\u001b[43mget_describe\u001b[49m\u001b[43m)\u001b[49m\u001b[43m \u001b[49m\u001b[38;5;66;43;03m# 統計量を表示\u001b[39;49;00m\n\u001b[0;32m      5\u001b[0m \u001b[43m    \u001b[49m\u001b[38;5;241;43m.\u001b[39;49m\u001b[43mpipe\u001b[49m\u001b[43m(\u001b[49m\u001b[43mmake_histplot\u001b[49m\u001b[43m,\u001b[49m\u001b[43m \u001b[49m\u001b[38;5;28;43mbin\u001b[39;49m\u001b[38;5;241;43m=\u001b[39;49m\u001b[38;5;241;43m20\u001b[39;49m\u001b[43m)\u001b[49m\u001b[43m \u001b[49m\u001b[38;5;66;43;03m# ヒストグラムの表示\u001b[39;49;00m\n\u001b[0;32m      6\u001b[0m \u001b[43m    \u001b[49m\u001b[38;5;241;43m.\u001b[39;49m\u001b[43mpipe\u001b[49m\u001b[43m(\u001b[49m\u001b[43msort_tradeprice\u001b[49m\u001b[43m)\u001b[49m\u001b[43m \u001b[49m\u001b[38;5;66;43;03m# 大きい順に２０桁表示\u001b[39;49;00m\n\u001b[0;32m      7\u001b[0m \u001b[43m    \u001b[49m\u001b[38;5;241;43m.\u001b[39;49m\u001b[43mpipe\u001b[49m\u001b[43m(\u001b[49m\u001b[43msort_tradeprice\u001b[49m\u001b[43m,\u001b[49m\u001b[43mascending_\u001b[49m\u001b[38;5;241;43m=\u001b[39;49m\u001b[38;5;28;43;01mTrue\u001b[39;49;00m\u001b[43m)\u001b[49m\u001b[38;5;66;43;03m# 小さい順に２０件表示\u001b[39;49;00m\n\u001b[0;32m      8\u001b[0m \u001b[43m    \u001b[49m\u001b[38;5;241;43m.\u001b[39;49m\u001b[43mpipe\u001b[49m\u001b[43m(\u001b[49m\u001b[43mmake_barplot\u001b[49m\u001b[43m)\u001b[49m\u001b[43m \u001b[49m\u001b[38;5;66;43;03m# 箱ひげ図を作成\u001b[39;49;00m\n\u001b[0;32m      9\u001b[0m \u001b[43m    \u001b[49m\u001b[38;5;241;43m.\u001b[39;49m\u001b[43mpipe\u001b[49m\u001b[43m(\u001b[49m\u001b[43moutrange_describe\u001b[49m\u001b[43m)\u001b[49m\u001b[43m \u001b[49m\u001b[38;5;66;43;03m# 外れ値の統計量\u001b[39;49;00m\n\u001b[0;32m     10\u001b[0m \u001b[43m    \u001b[49m\u001b[38;5;241;43m.\u001b[39;49m\u001b[43mpipe\u001b[49m\u001b[43m(\u001b[49m\u001b[43minnnerrange\u001b[49m\u001b[43m)\u001b[49m\u001b[43m \u001b[49m\u001b[38;5;66;43;03m# 外れ値でない値のヒストグラム\u001b[39;49;00m\n\u001b[0;32m     11\u001b[0m \u001b[43m    \u001b[49m\u001b[38;5;241;43m.\u001b[39;49m\u001b[43mpipe\u001b[49m\u001b[43m(\u001b[49m\u001b[43mmake_histplot\u001b[49m\u001b[43m,\u001b[49m\u001b[43m \u001b[49m\u001b[43mtypes\u001b[49m\u001b[38;5;241;43m=\u001b[39;49m\u001b[38;5;124;43m'\u001b[39;49m\u001b[38;5;124;43mlog\u001b[39;49m\u001b[38;5;124;43m'\u001b[39;49m\u001b[43m,\u001b[49m\u001b[38;5;28;43mbin\u001b[39;49m\u001b[38;5;241;43m=\u001b[39;49m\u001b[38;5;241;43m20\u001b[39;49m\u001b[43m)\u001b[49m\u001b[43m \u001b[49m\u001b[38;5;66;43;03m# 対数の表示\u001b[39;49;00m\n\u001b[0;32m     12\u001b[0m \u001b[43m    \u001b[49m\u001b[38;5;241;43m.\u001b[39;49m\u001b[43mpipe\u001b[49m\u001b[43m(\u001b[49m\u001b[43mmake_histplot\u001b[49m\u001b[43m,\u001b[49m\u001b[43m \u001b[49m\u001b[43mtypes\u001b[49m\u001b[38;5;241;43m=\u001b[39;49m\u001b[38;5;124;43m'\u001b[39;49m\u001b[38;5;124;43mstandard\u001b[39;49m\u001b[38;5;124;43m'\u001b[39;49m\u001b[43m,\u001b[49m\u001b[43m \u001b[49m\u001b[38;5;28;43mbin\u001b[39;49m\u001b[38;5;241;43m=\u001b[39;49m\u001b[38;5;241;43m5\u001b[39;49m\u001b[43m,\u001b[49m\u001b[43mkde\u001b[49m\u001b[38;5;241;43m=\u001b[39;49m\u001b[38;5;28;43;01mFalse\u001b[39;49;00m\u001b[43m)\u001b[49m \u001b[38;5;66;03m#標準化の表示\u001b[39;00m\n\u001b[0;32m     13\u001b[0m )\n",
      "File \u001b[1;32mC:\\pg\\Python39\\lib\\site-packages\\pandas\\core\\generic.py:6140\u001b[0m, in \u001b[0;36mNDFrame.pipe\u001b[1;34m(self, func, *args, **kwargs)\u001b[0m\n\u001b[0;32m   6138\u001b[0m \u001b[38;5;28;01mif\u001b[39;00m using_copy_on_write():\n\u001b[0;32m   6139\u001b[0m     \u001b[38;5;28;01mreturn\u001b[39;00m common\u001b[38;5;241m.\u001b[39mpipe(\u001b[38;5;28mself\u001b[39m\u001b[38;5;241m.\u001b[39mcopy(deep\u001b[38;5;241m=\u001b[39m\u001b[38;5;28;01mNone\u001b[39;00m), func, \u001b[38;5;241m*\u001b[39margs, \u001b[38;5;241m*\u001b[39m\u001b[38;5;241m*\u001b[39mkwargs)\n\u001b[1;32m-> 6140\u001b[0m \u001b[38;5;28;01mreturn\u001b[39;00m common\u001b[38;5;241m.\u001b[39mpipe(\u001b[38;5;28mself\u001b[39m, func, \u001b[38;5;241m*\u001b[39margs, \u001b[38;5;241m*\u001b[39m\u001b[38;5;241m*\u001b[39mkwargs)\n",
      "File \u001b[1;32mC:\\pg\\Python39\\lib\\site-packages\\pandas\\core\\common.py:497\u001b[0m, in \u001b[0;36mpipe\u001b[1;34m(obj, func, *args, **kwargs)\u001b[0m\n\u001b[0;32m    495\u001b[0m     \u001b[38;5;28;01mreturn\u001b[39;00m func(\u001b[38;5;241m*\u001b[39margs, \u001b[38;5;241m*\u001b[39m\u001b[38;5;241m*\u001b[39mkwargs)\n\u001b[0;32m    496\u001b[0m \u001b[38;5;28;01melse\u001b[39;00m:\n\u001b[1;32m--> 497\u001b[0m     \u001b[38;5;28;01mreturn\u001b[39;00m func(obj, \u001b[38;5;241m*\u001b[39margs, \u001b[38;5;241m*\u001b[39m\u001b[38;5;241m*\u001b[39mkwargs)\n",
      "\u001b[1;31mTypeError\u001b[0m: make_histplot() got an unexpected keyword argument 'kde'"
     ]
    }
   ],
   "metadata": {}
  },
  {
   "cell_type": "markdown",
   "source": [
    "* describe\r\n",
    "  * 最小値100円、最大値470億円とかなり幅がある\r\n",
    "  * 金額の分布を知りたい、数値として、上限下限の値を知りたい\r\n",
    "* histgram\r\n",
    "  * 最大値が多すぎるせいかうまく表示されない\r\n",
    "  * 端っこの値を確認したい\r\n",
    "* ascending\r\n",
    "  * 値の一番端の値のみが触れているというわけではない\r\n",
    "* 箱ひげ図\r\n",
    "  * 最大値がかなり飛び抜けていることがわかる\r\n",
    "  * 正規性はあるか確認したい\r\n",
    "* 最小値、最大値\r\n",
    "  * 最小値のみが大きく外れいると思ったがそういう訳でもなさそう\r\n",
    "  * 考えられること：桁数の入力忘れ、知人間でタダ同然に渡したなど\r\n",
    "* 外れ値の統計量\r\n",
    "  * 。。。。\r\n",
    "* 外れ値を除いたhistgram\r\n",
    "  * 外れ値そのもの：大体4万（７％くらい）件省かれているので、無視していい量ではない\r\n",
    "  * ヒストグラム：200万円までの値で全体の半分くらいを網羅していそう\r\n",
    "    * 100万円単位で、個数が単調減少している\r\n",
    "* 対数化\r\n",
    "  * かなり外れ値の影響を受けづらいデータとなった\r\n",
    "  * 予測時は、対数化した方が精度たかくなりそう\r\n",
    "* 標準化\r\n",
    "  * 結局外れ値のえいきょうを大きくうけてしまう\r\n",
    "  * 標準化をしたときに最大値が256なのだから、図がおかしくなるのは妥当"
   ],
   "metadata": {}
  },
  {
   "cell_type": "markdown",
   "source": [
    "### 引き続きEDA"
   ],
   "metadata": {}
  },
  {
   "cell_type": "code",
   "execution_count": null,
   "source": [],
   "outputs": [],
   "metadata": {}
  }
 ],
 "metadata": {
  "kernelspec": {
   "name": "python3",
   "display_name": "Python 3.9.2 64-bit"
  },
  "language_info": {
   "codemirror_mode": {
    "name": "ipython",
    "version": 3
   },
   "file_extension": ".py",
   "mimetype": "text/x-python",
   "name": "python",
   "nbconvert_exporter": "python",
   "pygments_lexer": "ipython3",
   "version": "3.9.2"
  },
  "orig_nbformat": 4,
  "interpreter": {
   "hash": "afdc1aad40692626d416549d50713f34b101fd4febecb5bee8e2fbc4bf6d599a"
  }
 },
 "nbformat": 4,
 "nbformat_minor": 2
}